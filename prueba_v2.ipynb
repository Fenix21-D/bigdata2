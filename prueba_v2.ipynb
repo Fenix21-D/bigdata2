{
  "cells": [
    {
      "cell_type": "markdown",
      "metadata": {
        "id": "view-in-github",
        "colab_type": "text"
      },
      "source": [
        "<a href=\"https://colab.research.google.com/github/Fenix21-D/bigdata/blob/main/prueba_v2.ipynb\" target=\"_parent\"><img src=\"https://colab.research.google.com/assets/colab-badge.svg\" alt=\"Open In Colab\"/></a>"
      ]
    },
    {
      "cell_type": "markdown",
      "metadata": {
        "id": "mIg8FBEuteVS"
      },
      "source": [
        "# El set de datos"
      ]
    },
    {
      "cell_type": "markdown",
      "metadata": {
        "id": "7tJv8KY_teVU"
      },
      "source": [
        "Comencemos haciendo la lectura de este set de datos,"
      ]
    },
    {
      "cell_type": "code",
      "source": [
        "from google.colab import drive\n",
        "\n",
        "# Montar Google Drive\n",
        "drive.mount('/content/drive')\n",
        "\n"
      ],
      "metadata": {
        "id": "vaX28CkJvba8",
        "outputId": "50ac090b-1f69-4149-e8ad-fbe5821c2f49",
        "colab": {
          "base_uri": "https://localhost:8080/"
        }
      },
      "execution_count": 1,
      "outputs": [
        {
          "output_type": "stream",
          "name": "stdout",
          "text": [
            "Drive already mounted at /content/drive; to attempt to forcibly remount, call drive.mount(\"/content/drive\", force_remount=True).\n"
          ]
        }
      ]
    },
    {
      "cell_type": "code",
      "execution_count": 2,
      "metadata": {
        "id": "wyK-cWWGteVV",
        "outputId": "10bb836d-9847-4631-9ed4-e4e5113cee6b",
        "colab": {
          "base_uri": "https://localhost:8080/"
        }
      },
      "outputs": [
        {
          "output_type": "stream",
          "name": "stdout",
          "text": [
            "Primeras filas del archivo CSV:\n",
            "                   timestamp  value  qf    category\n",
            "0  2009-02-01 05:10:00+00:00    0.0   1  Sin lluvia\n",
            "1  2009-02-01 05:20:00+00:00    0.0   1  Sin lluvia\n",
            "2  2009-02-01 05:30:00+00:00    0.0   1  Sin lluvia\n",
            "3  2009-02-01 05:40:00+00:00    0.0   1  Sin lluvia\n",
            "4  2009-02-01 05:50:00+00:00    0.0   1  Sin lluvia\n"
          ]
        }
      ],
      "source": [
        "# Ruta al archivo CSV en Google Drive\n",
        "csv_file_path = '/content/drive/My Drive/Colab Notebooks/tum_prec_cc_2009.csv'\n",
        "\n",
        "# Leer el archivo CSV\n",
        "import pandas as pd\n",
        "df = pd.read_csv(csv_file_path)\n",
        "\n",
        "# Verificar si el archivo está vacío\n",
        "if df.empty:\n",
        "    print(\"El archivo CSV está vacío o no contiene datos válidos.\")\n",
        "else:\n",
        "    # Mostrar las primeras filas del DataFrame\n",
        "    print(\"Primeras filas del archivo CSV:\")\n",
        "    print(df.head())\n"
      ]
    },
    {
      "cell_type": "code",
      "execution_count": 3,
      "metadata": {
        "id": "ukThNjkZteVY",
        "outputId": "b672e7db-9da7-4382-ecf5-5d64b405206e",
        "colab": {
          "base_uri": "https://localhost:8080/"
        }
      },
      "outputs": [
        {
          "output_type": "stream",
          "name": "stdout",
          "text": [
            "Num GPUs Available:  1\n"
          ]
        }
      ],
      "source": [
        "import tensorflow as tf\n",
        "print(\"Num GPUs Available: \", len(tf.config.list_physical_devices('GPU')))"
      ]
    },
    {
      "cell_type": "code",
      "execution_count": 4,
      "metadata": {
        "id": "sIm2OU3yteVY",
        "outputId": "ad0f1158-cb3a-45b2-e899-bc46fedeb402",
        "colab": {
          "base_uri": "https://localhost:8080/",
          "height": 423
        }
      },
      "outputs": [
        {
          "output_type": "execute_result",
          "data": {
            "text/plain": [
              "                       timestamp  value\n",
              "0      2009-02-01 05:10:00+00:00    0.0\n",
              "1      2009-02-01 05:20:00+00:00    0.0\n",
              "2      2009-02-01 05:30:00+00:00    0.0\n",
              "3      2009-02-01 05:40:00+00:00    0.0\n",
              "4      2009-02-01 05:50:00+00:00    0.0\n",
              "...                          ...    ...\n",
              "47947  2009-12-31 04:20:00+00:00    0.0\n",
              "47948  2009-12-31 04:30:00+00:00    0.0\n",
              "47949  2009-12-31 04:40:00+00:00    0.0\n",
              "47950  2009-12-31 04:50:00+00:00    0.0\n",
              "47951  2009-12-31 05:00:00+00:00    0.0\n",
              "\n",
              "[47952 rows x 2 columns]"
            ],
            "text/html": [
              "\n",
              "  <div id=\"df-1a59c5a5-9b3e-4655-9175-527edfeb41cd\" class=\"colab-df-container\">\n",
              "    <div>\n",
              "<style scoped>\n",
              "    .dataframe tbody tr th:only-of-type {\n",
              "        vertical-align: middle;\n",
              "    }\n",
              "\n",
              "    .dataframe tbody tr th {\n",
              "        vertical-align: top;\n",
              "    }\n",
              "\n",
              "    .dataframe thead th {\n",
              "        text-align: right;\n",
              "    }\n",
              "</style>\n",
              "<table border=\"1\" class=\"dataframe\">\n",
              "  <thead>\n",
              "    <tr style=\"text-align: right;\">\n",
              "      <th></th>\n",
              "      <th>timestamp</th>\n",
              "      <th>value</th>\n",
              "    </tr>\n",
              "  </thead>\n",
              "  <tbody>\n",
              "    <tr>\n",
              "      <th>0</th>\n",
              "      <td>2009-02-01 05:10:00+00:00</td>\n",
              "      <td>0.0</td>\n",
              "    </tr>\n",
              "    <tr>\n",
              "      <th>1</th>\n",
              "      <td>2009-02-01 05:20:00+00:00</td>\n",
              "      <td>0.0</td>\n",
              "    </tr>\n",
              "    <tr>\n",
              "      <th>2</th>\n",
              "      <td>2009-02-01 05:30:00+00:00</td>\n",
              "      <td>0.0</td>\n",
              "    </tr>\n",
              "    <tr>\n",
              "      <th>3</th>\n",
              "      <td>2009-02-01 05:40:00+00:00</td>\n",
              "      <td>0.0</td>\n",
              "    </tr>\n",
              "    <tr>\n",
              "      <th>4</th>\n",
              "      <td>2009-02-01 05:50:00+00:00</td>\n",
              "      <td>0.0</td>\n",
              "    </tr>\n",
              "    <tr>\n",
              "      <th>...</th>\n",
              "      <td>...</td>\n",
              "      <td>...</td>\n",
              "    </tr>\n",
              "    <tr>\n",
              "      <th>47947</th>\n",
              "      <td>2009-12-31 04:20:00+00:00</td>\n",
              "      <td>0.0</td>\n",
              "    </tr>\n",
              "    <tr>\n",
              "      <th>47948</th>\n",
              "      <td>2009-12-31 04:30:00+00:00</td>\n",
              "      <td>0.0</td>\n",
              "    </tr>\n",
              "    <tr>\n",
              "      <th>47949</th>\n",
              "      <td>2009-12-31 04:40:00+00:00</td>\n",
              "      <td>0.0</td>\n",
              "    </tr>\n",
              "    <tr>\n",
              "      <th>47950</th>\n",
              "      <td>2009-12-31 04:50:00+00:00</td>\n",
              "      <td>0.0</td>\n",
              "    </tr>\n",
              "    <tr>\n",
              "      <th>47951</th>\n",
              "      <td>2009-12-31 05:00:00+00:00</td>\n",
              "      <td>0.0</td>\n",
              "    </tr>\n",
              "  </tbody>\n",
              "</table>\n",
              "<p>47952 rows × 2 columns</p>\n",
              "</div>\n",
              "    <div class=\"colab-df-buttons\">\n",
              "\n",
              "  <div class=\"colab-df-container\">\n",
              "    <button class=\"colab-df-convert\" onclick=\"convertToInteractive('df-1a59c5a5-9b3e-4655-9175-527edfeb41cd')\"\n",
              "            title=\"Convert this dataframe to an interactive table.\"\n",
              "            style=\"display:none;\">\n",
              "\n",
              "  <svg xmlns=\"http://www.w3.org/2000/svg\" height=\"24px\" viewBox=\"0 -960 960 960\">\n",
              "    <path d=\"M120-120v-720h720v720H120Zm60-500h600v-160H180v160Zm220 220h160v-160H400v160Zm0 220h160v-160H400v160ZM180-400h160v-160H180v160Zm440 0h160v-160H620v160ZM180-180h160v-160H180v160Zm440 0h160v-160H620v160Z\"/>\n",
              "  </svg>\n",
              "    </button>\n",
              "\n",
              "  <style>\n",
              "    .colab-df-container {\n",
              "      display:flex;\n",
              "      gap: 12px;\n",
              "    }\n",
              "\n",
              "    .colab-df-convert {\n",
              "      background-color: #E8F0FE;\n",
              "      border: none;\n",
              "      border-radius: 50%;\n",
              "      cursor: pointer;\n",
              "      display: none;\n",
              "      fill: #1967D2;\n",
              "      height: 32px;\n",
              "      padding: 0 0 0 0;\n",
              "      width: 32px;\n",
              "    }\n",
              "\n",
              "    .colab-df-convert:hover {\n",
              "      background-color: #E2EBFA;\n",
              "      box-shadow: 0px 1px 2px rgba(60, 64, 67, 0.3), 0px 1px 3px 1px rgba(60, 64, 67, 0.15);\n",
              "      fill: #174EA6;\n",
              "    }\n",
              "\n",
              "    .colab-df-buttons div {\n",
              "      margin-bottom: 4px;\n",
              "    }\n",
              "\n",
              "    [theme=dark] .colab-df-convert {\n",
              "      background-color: #3B4455;\n",
              "      fill: #D2E3FC;\n",
              "    }\n",
              "\n",
              "    [theme=dark] .colab-df-convert:hover {\n",
              "      background-color: #434B5C;\n",
              "      box-shadow: 0px 1px 3px 1px rgba(0, 0, 0, 0.15);\n",
              "      filter: drop-shadow(0px 1px 2px rgba(0, 0, 0, 0.3));\n",
              "      fill: #FFFFFF;\n",
              "    }\n",
              "  </style>\n",
              "\n",
              "    <script>\n",
              "      const buttonEl =\n",
              "        document.querySelector('#df-1a59c5a5-9b3e-4655-9175-527edfeb41cd button.colab-df-convert');\n",
              "      buttonEl.style.display =\n",
              "        google.colab.kernel.accessAllowed ? 'block' : 'none';\n",
              "\n",
              "      async function convertToInteractive(key) {\n",
              "        const element = document.querySelector('#df-1a59c5a5-9b3e-4655-9175-527edfeb41cd');\n",
              "        const dataTable =\n",
              "          await google.colab.kernel.invokeFunction('convertToInteractive',\n",
              "                                                    [key], {});\n",
              "        if (!dataTable) return;\n",
              "\n",
              "        const docLinkHtml = 'Like what you see? Visit the ' +\n",
              "          '<a target=\"_blank\" href=https://colab.research.google.com/notebooks/data_table.ipynb>data table notebook</a>'\n",
              "          + ' to learn more about interactive tables.';\n",
              "        element.innerHTML = '';\n",
              "        dataTable['output_type'] = 'display_data';\n",
              "        await google.colab.output.renderOutput(dataTable, element);\n",
              "        const docLink = document.createElement('div');\n",
              "        docLink.innerHTML = docLinkHtml;\n",
              "        element.appendChild(docLink);\n",
              "      }\n",
              "    </script>\n",
              "  </div>\n",
              "\n",
              "\n",
              "<div id=\"df-02a0bbb5-87ad-4b4e-a142-17c1432e70c3\">\n",
              "  <button class=\"colab-df-quickchart\" onclick=\"quickchart('df-02a0bbb5-87ad-4b4e-a142-17c1432e70c3')\"\n",
              "            title=\"Suggest charts\"\n",
              "            style=\"display:none;\">\n",
              "\n",
              "<svg xmlns=\"http://www.w3.org/2000/svg\" height=\"24px\"viewBox=\"0 0 24 24\"\n",
              "     width=\"24px\">\n",
              "    <g>\n",
              "        <path d=\"M19 3H5c-1.1 0-2 .9-2 2v14c0 1.1.9 2 2 2h14c1.1 0 2-.9 2-2V5c0-1.1-.9-2-2-2zM9 17H7v-7h2v7zm4 0h-2V7h2v10zm4 0h-2v-4h2v4z\"/>\n",
              "    </g>\n",
              "</svg>\n",
              "  </button>\n",
              "\n",
              "<style>\n",
              "  .colab-df-quickchart {\n",
              "      --bg-color: #E8F0FE;\n",
              "      --fill-color: #1967D2;\n",
              "      --hover-bg-color: #E2EBFA;\n",
              "      --hover-fill-color: #174EA6;\n",
              "      --disabled-fill-color: #AAA;\n",
              "      --disabled-bg-color: #DDD;\n",
              "  }\n",
              "\n",
              "  [theme=dark] .colab-df-quickchart {\n",
              "      --bg-color: #3B4455;\n",
              "      --fill-color: #D2E3FC;\n",
              "      --hover-bg-color: #434B5C;\n",
              "      --hover-fill-color: #FFFFFF;\n",
              "      --disabled-bg-color: #3B4455;\n",
              "      --disabled-fill-color: #666;\n",
              "  }\n",
              "\n",
              "  .colab-df-quickchart {\n",
              "    background-color: var(--bg-color);\n",
              "    border: none;\n",
              "    border-radius: 50%;\n",
              "    cursor: pointer;\n",
              "    display: none;\n",
              "    fill: var(--fill-color);\n",
              "    height: 32px;\n",
              "    padding: 0;\n",
              "    width: 32px;\n",
              "  }\n",
              "\n",
              "  .colab-df-quickchart:hover {\n",
              "    background-color: var(--hover-bg-color);\n",
              "    box-shadow: 0 1px 2px rgba(60, 64, 67, 0.3), 0 1px 3px 1px rgba(60, 64, 67, 0.15);\n",
              "    fill: var(--button-hover-fill-color);\n",
              "  }\n",
              "\n",
              "  .colab-df-quickchart-complete:disabled,\n",
              "  .colab-df-quickchart-complete:disabled:hover {\n",
              "    background-color: var(--disabled-bg-color);\n",
              "    fill: var(--disabled-fill-color);\n",
              "    box-shadow: none;\n",
              "  }\n",
              "\n",
              "  .colab-df-spinner {\n",
              "    border: 2px solid var(--fill-color);\n",
              "    border-color: transparent;\n",
              "    border-bottom-color: var(--fill-color);\n",
              "    animation:\n",
              "      spin 1s steps(1) infinite;\n",
              "  }\n",
              "\n",
              "  @keyframes spin {\n",
              "    0% {\n",
              "      border-color: transparent;\n",
              "      border-bottom-color: var(--fill-color);\n",
              "      border-left-color: var(--fill-color);\n",
              "    }\n",
              "    20% {\n",
              "      border-color: transparent;\n",
              "      border-left-color: var(--fill-color);\n",
              "      border-top-color: var(--fill-color);\n",
              "    }\n",
              "    30% {\n",
              "      border-color: transparent;\n",
              "      border-left-color: var(--fill-color);\n",
              "      border-top-color: var(--fill-color);\n",
              "      border-right-color: var(--fill-color);\n",
              "    }\n",
              "    40% {\n",
              "      border-color: transparent;\n",
              "      border-right-color: var(--fill-color);\n",
              "      border-top-color: var(--fill-color);\n",
              "    }\n",
              "    60% {\n",
              "      border-color: transparent;\n",
              "      border-right-color: var(--fill-color);\n",
              "    }\n",
              "    80% {\n",
              "      border-color: transparent;\n",
              "      border-right-color: var(--fill-color);\n",
              "      border-bottom-color: var(--fill-color);\n",
              "    }\n",
              "    90% {\n",
              "      border-color: transparent;\n",
              "      border-bottom-color: var(--fill-color);\n",
              "    }\n",
              "  }\n",
              "</style>\n",
              "\n",
              "  <script>\n",
              "    async function quickchart(key) {\n",
              "      const quickchartButtonEl =\n",
              "        document.querySelector('#' + key + ' button');\n",
              "      quickchartButtonEl.disabled = true;  // To prevent multiple clicks.\n",
              "      quickchartButtonEl.classList.add('colab-df-spinner');\n",
              "      try {\n",
              "        const charts = await google.colab.kernel.invokeFunction(\n",
              "            'suggestCharts', [key], {});\n",
              "      } catch (error) {\n",
              "        console.error('Error during call to suggestCharts:', error);\n",
              "      }\n",
              "      quickchartButtonEl.classList.remove('colab-df-spinner');\n",
              "      quickchartButtonEl.classList.add('colab-df-quickchart-complete');\n",
              "    }\n",
              "    (() => {\n",
              "      let quickchartButtonEl =\n",
              "        document.querySelector('#df-02a0bbb5-87ad-4b4e-a142-17c1432e70c3 button');\n",
              "      quickchartButtonEl.style.display =\n",
              "        google.colab.kernel.accessAllowed ? 'block' : 'none';\n",
              "    })();\n",
              "  </script>\n",
              "</div>\n",
              "\n",
              "  <div id=\"id_c77210b6-843f-4895-abcf-f9dde56e66c1\">\n",
              "    <style>\n",
              "      .colab-df-generate {\n",
              "        background-color: #E8F0FE;\n",
              "        border: none;\n",
              "        border-radius: 50%;\n",
              "        cursor: pointer;\n",
              "        display: none;\n",
              "        fill: #1967D2;\n",
              "        height: 32px;\n",
              "        padding: 0 0 0 0;\n",
              "        width: 32px;\n",
              "      }\n",
              "\n",
              "      .colab-df-generate:hover {\n",
              "        background-color: #E2EBFA;\n",
              "        box-shadow: 0px 1px 2px rgba(60, 64, 67, 0.3), 0px 1px 3px 1px rgba(60, 64, 67, 0.15);\n",
              "        fill: #174EA6;\n",
              "      }\n",
              "\n",
              "      [theme=dark] .colab-df-generate {\n",
              "        background-color: #3B4455;\n",
              "        fill: #D2E3FC;\n",
              "      }\n",
              "\n",
              "      [theme=dark] .colab-df-generate:hover {\n",
              "        background-color: #434B5C;\n",
              "        box-shadow: 0px 1px 3px 1px rgba(0, 0, 0, 0.15);\n",
              "        filter: drop-shadow(0px 1px 2px rgba(0, 0, 0, 0.3));\n",
              "        fill: #FFFFFF;\n",
              "      }\n",
              "    </style>\n",
              "    <button class=\"colab-df-generate\" onclick=\"generateWithVariable('df')\"\n",
              "            title=\"Generate code using this dataframe.\"\n",
              "            style=\"display:none;\">\n",
              "\n",
              "  <svg xmlns=\"http://www.w3.org/2000/svg\" height=\"24px\"viewBox=\"0 0 24 24\"\n",
              "       width=\"24px\">\n",
              "    <path d=\"M7,19H8.4L18.45,9,17,7.55,7,17.6ZM5,21V16.75L18.45,3.32a2,2,0,0,1,2.83,0l1.4,1.43a1.91,1.91,0,0,1,.58,1.4,1.91,1.91,0,0,1-.58,1.4L9.25,21ZM18.45,9,17,7.55Zm-12,3A5.31,5.31,0,0,0,4.9,8.1,5.31,5.31,0,0,0,1,6.5,5.31,5.31,0,0,0,4.9,4.9,5.31,5.31,0,0,0,6.5,1,5.31,5.31,0,0,0,8.1,4.9,5.31,5.31,0,0,0,12,6.5,5.46,5.46,0,0,0,6.5,12Z\"/>\n",
              "  </svg>\n",
              "    </button>\n",
              "    <script>\n",
              "      (() => {\n",
              "      const buttonEl =\n",
              "        document.querySelector('#id_c77210b6-843f-4895-abcf-f9dde56e66c1 button.colab-df-generate');\n",
              "      buttonEl.style.display =\n",
              "        google.colab.kernel.accessAllowed ? 'block' : 'none';\n",
              "\n",
              "      buttonEl.onclick = () => {\n",
              "        google.colab.notebook.generateWithVariable('df');\n",
              "      }\n",
              "      })();\n",
              "    </script>\n",
              "  </div>\n",
              "\n",
              "    </div>\n",
              "  </div>\n"
            ],
            "application/vnd.google.colaboratory.intrinsic+json": {
              "type": "dataframe",
              "variable_name": "df",
              "summary": "{\n  \"name\": \"df\",\n  \"rows\": 47952,\n  \"fields\": [\n    {\n      \"column\": \"timestamp\",\n      \"properties\": {\n        \"dtype\": \"object\",\n        \"num_unique_values\": 47952,\n        \"samples\": [\n          \"2009-06-30 18:00:00+00:00\",\n          \"2009-08-05 17:50:00+00:00\",\n          \"2009-06-10 19:30:00+00:00\"\n        ],\n        \"semantic_type\": \"\",\n        \"description\": \"\"\n      }\n    },\n    {\n      \"column\": \"value\",\n      \"properties\": {\n        \"dtype\": \"number\",\n        \"std\": 0.3144070031425323,\n        \"min\": 0.0,\n        \"max\": 15.0,\n        \"num_unique_values\": 79,\n        \"samples\": [\n          2.3,\n          0.0,\n          5.6\n        ],\n        \"semantic_type\": \"\",\n        \"description\": \"\"\n      }\n    }\n  ]\n}"
            }
          },
          "metadata": {},
          "execution_count": 4
        }
      ],
      "source": [
        "\n",
        "df.drop(columns=['category','qf'], inplace=True)\n",
        "df\n"
      ]
    },
    {
      "cell_type": "markdown",
      "metadata": {
        "id": "I6HKAm30teVY"
      },
      "source": [
        "___\n",
        "## Pre-procesamiento de los datos\n",
        "El objetivo de esta fase de pre-procesamiento es ajustar los datos al formato requerido por la Red LSTM para de esta forma poder entrenarla y validarla correctamente.\n",
        "\n",
        "Esencialmente involucra tres fases:\n",
        "\n",
        "Partición del dataset en los subsets de entrenamiento, validación y prueba\n",
        "Generación del dataset supervisado (entradas y salidas del modelo)\n",
        "Escalamiento de los datos\n",
        "Veamos entonces en detalle cada una de estas fases, comenzando con la partición de los datos.\n",
        "\n",
        "### Sets de entrenamiento, validación y prueba\n",
        "El objetivo de la partición del dataset en los subsets de entrenamiento, validación y prueba es poder no sólo entrenar la Red LSTM sino validarla correctamente (verificando que no haya underfitting u overfitting).\n",
        "\n",
        "En particular:\n",
        "\n",
        "El set de entrenamiento (que en adelante será la variable train) se usará para encontrar los parámetros del modelo\n",
        "El set de validación (val) nos permitirá verificar que no haya underfitting u overfitting del modelo y adicionalmente nos permitirá ajustar los hiperparámetros (como la tasa de aprendizaje, el número de iteraciones de entrenamiento y el tamaño del lote, entre otros).\n",
        "El set de prueba (test) permitirá poner a prueba el mejor modelo encontrado durante el entrenamiento y la validación y nos permitirá evaluar la capacidad del modelo de generalizar (es decir de generar predicciones sobre datos que nunca antes ha visto).\n",
        "A diferencia de otros modelos de Machine Learning, en el caso de series de tiempo y las Redes LSTM se debe garantizar que se generan las particiones sin mezclar aleatoriamente los datos.\n",
        "\n",
        "Lo anterior implica que los sets train, val y test deberán ser obtenidos garantizando que todos los registros son consecutivos.\n",
        "\n",
        "Teniendo esto en cuenta haremos la partición de la siguiente forma:\n",
        "\n",
        "El set train contendrá la primera porción de la serie de tiempo (variable temperatura) correspondiente al 80% de la totalidad de los datos.\n",
        "El set val contendrá la segunda porción de la serie de tiempo y correspondiente al 10% de la totalidad de los datos.\n",
        "Finalmente, el set test contendrá la última porción de la serie de tiempo y correspondiente al 10% restante.\n",
        "Para realizar esta partición implementaremos la función train_val_test_split que tomará como entrada la serie de tiempo (columna T (degC) del dataset) y los porcentajes correspondientes a los sets de entrenamiento, validación y prueba:"
      ]
    },
    {
      "cell_type": "markdown",
      "metadata": {
        "id": "JUwOEnjjteVZ"
      },
      "source": [
        "### Propósito\n",
        "Esta herramienta permite analizar y visualizar la calidad y consistencia de las series temporales. A través de un reporte mensual y gráficos interactivos, se pueden identificar rápidamente patrones, datos ausentes, o inconsistencias en los registros.\n",
        "\n",
        "### Beneficios:\n",
        "1. **Evaluación Mensual de Registros:** Proporciona un desglose de la cantidad de datos disponibles mes a mes.\n",
        "2. **Detección Temprana de Problemas:** Identifica anomalías como periodos sin datos o inconsistencias en los registros.\n",
        "3. **Visualizaciones Claras:** Genera gráficos intuitivos para facilitar la interpretación de datos, permitiendo tomar decisiones informadas.\n",
        "\n",
        "### Resultados:\n",
        "- **Reporte Mensual:** Conteo detallado de registros procesados por mes.\n",
        "- **Gráficos Generados:**\n",
        "  1. **Serie Temporal Original:** Visualiza la evolución de los datos a lo largo del tiempo.\n",
        "  2. **Conteo Mensual de Registros:** Muestra la cantidad de datos disponibles por mes para supervisar la consistencia.\n",
        "\n",
        "---\n",
        "\n",
        "### Impacto en la Gestión\n",
        "Esta herramienta es clave para garantizar que los datos necesarios para análisis estratégicos estén completos y sean consistentes. Proporciona una visión integral del estado de las series temporales, apoyando la planificación y la resolución de problemas en la gestión de información."
      ]
    },
    {
      "cell_type": "code",
      "execution_count": 5,
      "metadata": {
        "id": "8cslF4uCteVZ"
      },
      "outputs": [],
      "source": [
        "def train_val_test_split(serie, tr_size=0.8, vl_size=0.1, ts_size=0.1 ):\n",
        "    # Definir número de datos en cada subserie\n",
        "    N = serie.shape[0]\n",
        "    Ntrain = int(tr_size*N)  # Número de datos de entrenamiento\n",
        "    Nval = int(vl_size*N)    # Número de datos de validación\n",
        "    Ntst = N - Ntrain - Nval # Número de datos de prueba\n",
        "\n",
        "    # Realizar partición\n",
        "    train = serie[0:Ntrain]\n",
        "    val = serie[Ntrain:Ntrain+Nval]\n",
        "    test = serie[Ntrain+Nval:]\n",
        "\n",
        "    return train, val, test\n"
      ]
    },
    {
      "cell_type": "markdown",
      "metadata": {
        "id": "L5y_-PkEteVZ"
      },
      "source": [
        "tamaños que corresponden respectivamente al 80%, 10% y 10% del set de datos original."
      ]
    },
    {
      "cell_type": "markdown",
      "metadata": {
        "id": "pkUtj1D2teVZ"
      },
      "source": [
        "## Dataset supervisado"
      ]
    },
    {
      "cell_type": "code",
      "execution_count": 5,
      "metadata": {
        "id": "42W4MBnSteVZ"
      },
      "outputs": [],
      "source": []
    },
    {
      "cell_type": "markdown",
      "metadata": {
        "id": "u44TaYv4teVZ"
      },
      "source": [
        "En la función anterior podemos ver que la partición se realiza primero definiendo la cantidad de datos equivalente al porcentaje correspondiente (Ntrain, Nval y Ntst) y luego tomando las porciones correspondientes de la serie original para crear los subsets de entrenamiento (serie[0:Ntrain]), validación (serie[Ntrain:Ntrain+Nval]) y prueba (serie[Ntrain+Nval:]).\n",
        "\n",
        "Habiendo creado esta función, simplemente debemos llamarla para crear los tres subsets de datos:"
      ]
    },
    {
      "cell_type": "code",
      "execution_count": 6,
      "metadata": {
        "id": "IkiS_2YCteVZ",
        "outputId": "68022903-e557-4cd2-a443-2dc160cc480e",
        "colab": {
          "base_uri": "https://localhost:8080/"
        }
      },
      "outputs": [
        {
          "output_type": "stream",
          "name": "stdout",
          "text": [
            "Tamaño set de entrenamiento: (38361,)\n",
            "Tamaño set de validación: (4795,)\n",
            "Tamaño set de prueba: (4796,)\n"
          ]
        }
      ],
      "source": [
        "tr, vl, ts = train_val_test_split(df['value'])\n",
        "\n",
        "# Imprimir en pantalla el tamaño de cada subset\n",
        "print(f'Tamaño set de entrenamiento: {tr.shape}')\n",
        "print(f'Tamaño set de validación: {vl.shape}')\n",
        "print(f'Tamaño set de prueba: {ts.shape}')"
      ]
    },
    {
      "cell_type": "code",
      "execution_count": 10,
      "metadata": {
        "id": "13eglc74teVa",
        "outputId": "353da49d-f93f-4dd9-bf74-eda6980bdfb5",
        "colab": {
          "base_uri": "https://localhost:8080/",
          "height": 462
        }
      },
      "outputs": [
        {
          "output_type": "execute_result",
          "data": {
            "text/plain": [
              "<matplotlib.legend.Legend at 0x7919254c5410>"
            ]
          },
          "metadata": {},
          "execution_count": 10
        },
        {
          "output_type": "display_data",
          "data": {
            "text/plain": [
              "<Figure size 1600x500 with 1 Axes>"
            ],
            "image/png": "[encoded data removed]"
          },
          "metadata": {}
        }
      ],
      "source": [
        "# Dibujar los subsets\n",
        "from cProfile import label\n",
        "import matplotlib.pyplot as plt\n",
        "\n",
        "\n",
        "fig, ax =plt.subplots(figsize = (16,5))\n",
        "ax.plot(tr, label='Train')\n",
        "ax.plot(vl, label='Val')\n",
        "ax.plot(ts, label='test')\n",
        "plt.legend()"
      ]
    },
    {
      "cell_type": "code",
      "execution_count": 11,
      "metadata": {
        "id": "Hcr6KPXiteVa"
      },
      "outputs": [],
      "source": [
        "def crear_dataset_supervisado(array, input_length, output_length):\n",
        "\n",
        "    # Inicialización\n",
        "    X, Y = [], []    # Listados que contendrán los datos de entrada y salida del modelo\n",
        "    shape = array.shape\n",
        "    if len(shape)==1: # Si tenemos sólo una serie (univariado)\n",
        "        fils, cols = array.shape[0], 1\n",
        "        array = array.reshape(fils,cols)\n",
        "    else: # Multivariado\n",
        "        fils, cols = array.shape\n",
        "\n",
        "    # Generar los arreglos\n",
        "    for i in range(fils-input_length-output_length):\n",
        "        X.append(array[i:i+input_length,0:cols])\n",
        "        Y.append(array[i+input_length:i+input_length+output_length,-1].reshape(output_length,1))\n",
        "\n",
        "    # Convertir listas a arreglos de NumPy\n",
        "    X = np.array(X)\n",
        "    Y = np.array(Y)\n",
        "\n",
        "    return X, Y"
      ]
    },
    {
      "cell_type": "code",
      "execution_count": 13,
      "metadata": {
        "id": "RJLNKDJ4teVa",
        "outputId": "a85c27c9-35ef-4f3c-d208-f69fabfd1288",
        "colab": {
          "base_uri": "https://localhost:8080/"
        }
      },
      "outputs": [
        {
          "output_type": "stream",
          "name": "stdout",
          "text": [
            "Tamaños entrada (BATCHES x INPUT_LENGTH x FEATURES) y de salida (BATCHES x OUTPUT_LENGTH x FEATURES)\n",
            "Set de entrenamiento - x_tr: (36920, 1440, 1), y_tr: (36920, 1, 1)\n",
            "Set de validación - x_vl: (3354, 1440, 1), y_vl: (3354, 1, 1)\n",
            "Set de prueba - x_ts: (3355, 1440, 1), y_ts: (3355, 1, 1)\n"
          ]
        }
      ],
      "source": [
        "import numpy as np\n",
        "# Definición de los hiperparámetros INPUT_LENGTH y OUTPUT_LENGTH\n",
        "INPUT_LENGTH = 1440    # Registros de 24 horas consecutivas a la entrada\n",
        "OUTPUT_LENGTH = 1    # El modelo va a predecir 1 hora a futuro\n",
        "\n",
        "# Datasets supervisados para entrenamiento (x_tr, y_tr), validación\n",
        "# (x_vl, y_vl) y prueba (x_ts, y_ts)\n",
        "x_tr, y_tr = crear_dataset_supervisado(tr.values, INPUT_LENGTH, OUTPUT_LENGTH)\n",
        "x_vl, y_vl = crear_dataset_supervisado(vl.values, INPUT_LENGTH, OUTPUT_LENGTH)\n",
        "x_ts, y_ts = crear_dataset_supervisado(ts.values, INPUT_LENGTH, OUTPUT_LENGTH)\n",
        "\n",
        "\n",
        "print('Tamaños entrada (BATCHES x INPUT_LENGTH x FEATURES) y de salida (BATCHES x OUTPUT_LENGTH x FEATURES)')\n",
        "print(f'Set de entrenamiento - x_tr: {x_tr.shape}, y_tr: {y_tr.shape}')\n",
        "print(f'Set de validación - x_vl: {x_vl.shape}, y_vl: {y_vl.shape}')\n",
        "print(f'Set de prueba - x_ts: {x_ts.shape}, y_ts: {y_ts.shape}')"
      ]
    },
    {
      "cell_type": "markdown",
      "metadata": {
        "id": "nCzWg2GLteVa"
      },
      "source": [
        "## Escalamiento de los datos"
      ]
    },
    {
      "cell_type": "code",
      "execution_count": 14,
      "metadata": {
        "id": "EJSRMka-teVa"
      },
      "outputs": [],
      "source": [
        "from sklearn.preprocessing import MinMaxScaler\n",
        "\n",
        "def escalar_dataset(data_input):\n",
        "    NFEATS = data_input['x_tr'].shape[2]\n",
        "\n",
        "    # Generar listado con \"scalers\"\n",
        "    scalers = [MinMaxScaler(feature_range=(-1,1)) for i in range(NFEATS)]\n",
        "\n",
        "    # Arreglos que contendrán los datasets escalados\n",
        "    x_tr_s = np.zeros(data_input['x_tr'].shape)\n",
        "    x_vl_s = np.zeros(data_input['x_vl'].shape)\n",
        "    x_ts_s = np.zeros(data_input['x_ts'].shape)\n",
        "    y_tr_s = np.zeros(data_input['y_tr'].shape)\n",
        "    y_vl_s = np.zeros(data_input['y_vl'].shape)\n",
        "    y_ts_s = np.zeros(data_input['y_ts'].shape)\n",
        "\n",
        "    # Escalamiento: se usarán los min/max del set de entrenamiento para\n",
        "    # escalar la totalidad de los datasets\n",
        "\n",
        "    # Escalamiento Xs\n",
        "    for i in range(NFEATS):\n",
        "        x_tr_s[:,:,i] = scalers[i].fit_transform(x_tr[:,:,i])\n",
        "        x_vl_s[:,:,i] = scalers[i].transform(x_vl[:,:,i])\n",
        "        x_ts_s[:,:,i] = scalers[i].transform(x_ts[:,:,i])\n",
        "\n",
        "    # Escalamiento Ys\n",
        "    y_tr_s[:,:,0] = scalers[-1].fit_transform(y_tr[:,:,0])\n",
        "    y_vl_s[:,:,0] = scalers[-1].transform(y_vl[:,:,0])\n",
        "    y_ts_s[:,:,0] = scalers[-1].transform(y_ts[:,:,0])\n",
        "\n",
        "    # Conformar ` de salida\n",
        "    data_scaled = {\n",
        "        'x_tr_s': x_tr_s, 'y_tr_s': y_tr_s,\n",
        "        'x_vl_s': x_vl_s, 'y_vl_s': y_vl_s,\n",
        "        'x_ts_s': x_ts_s, 'y_ts_s': y_ts_s,\n",
        "    }\n",
        "\n",
        "    return data_scaled, scalers[0]"
      ]
    },
    {
      "cell_type": "code",
      "execution_count": 15,
      "metadata": {
        "id": "md8vIO6_teVb",
        "outputId": "55c2784e-f528-47b3-f2c9-3dc2976756eb",
        "colab": {
          "base_uri": "https://localhost:8080/"
        }
      },
      "outputs": [
        {
          "output_type": "stream",
          "name": "stdout",
          "text": [
            "Min x_tr/x_vl/x_ts sin escalamiento: 0.0/0.0/0.0\n",
            "Min x_tr/x_vl/x_ts con escalamiento: -1.0/-1.0/-1.0\n",
            "\n",
            "Min y_tr/y_vl/y_ts sin escalamiento: 0.0/0.0/0.0\n",
            "Min y_tr/y_vl/y_ts con escalamiento: -1.0/-1.0/-1.0\n",
            "\n",
            "Max x_tr/x_vl/x_ts sin escalamiento: 15.0/6.0/5.1\n",
            "Max x_tr/x_vl/x_ts con escalamiento: 1.0/-0.19999999999999996/-0.32000000000000006\n",
            "\n",
            "Max y_tr/y_vl/y_ts sin escalamiento: 15.0/6.0/5.1\n",
            "Max y_tr/y_vl/y_ts con escalamiento: 1.0/-0.19999999999999996/-0.32000000000000006\n"
          ]
        }
      ],
      "source": [
        "data_in = {\n",
        "    'x_tr': x_tr, 'y_tr': y_tr,\n",
        "    'x_vl': x_vl, 'y_vl': y_vl,\n",
        "    'x_ts': x_ts, 'y_ts': y_ts,\n",
        "}\n",
        "\n",
        "data_s, scaler = escalar_dataset(data_in)\n",
        "\n",
        "x_tr_s, y_tr_s = data_s['x_tr_s'], data_s['y_tr_s']\n",
        "x_vl_s, y_vl_s = data_s['x_vl_s'], data_s['y_vl_s']\n",
        "x_ts_s, y_ts_s = data_s['x_ts_s'], data_s['y_ts_s']\n",
        "\n",
        "# Verificacion\n",
        "print(f'Min x_tr/x_vl/x_ts sin escalamiento: {x_tr.min()}/{x_vl.min()}/{x_ts.min()}')\n",
        "print(f'Min x_tr/x_vl/x_ts con escalamiento: {x_tr_s.min()}/{x_vl_s.min()}/{x_ts_s.min()}')\n",
        "\n",
        "print(f'\\nMin y_tr/y_vl/y_ts sin escalamiento: {y_tr.min()}/{y_vl.min()}/{y_ts.min()}')\n",
        "print(f'Min y_tr/y_vl/y_ts con escalamiento: {y_tr_s.min()}/{y_vl_s.min()}/{y_ts_s.min()}')\n",
        "\n",
        "print(f'\\nMax x_tr/x_vl/x_ts sin escalamiento: {x_tr.max()}/{x_vl.max()}/{x_ts.max()}')\n",
        "print(f'Max x_tr/x_vl/x_ts con escalamiento: {x_tr_s.max()}/{x_vl_s.max()}/{x_ts_s.max()}')\n",
        "\n",
        "print(f'\\nMax y_tr/y_vl/y_ts sin escalamiento: {y_tr.max()}/{y_vl.max()}/{y_ts.max()}')\n",
        "print(f'Max y_tr/y_vl/y_ts con escalamiento: {y_tr_s.max()}/{y_vl_s.max()}/{y_ts_s.max()}')\n"
      ]
    },
    {
      "cell_type": "markdown",
      "source": [],
      "metadata": {
        "id": "3lP0jVYl1tut"
      }
    },
    {
      "cell_type": "markdown",
      "metadata": {
        "id": "sqQiL5UIteVb"
      },
      "source": [
        "## Creación y entrenamiento de la Red LSTM"
      ]
    },
    {
      "cell_type": "code",
      "execution_count": 16,
      "metadata": {
        "id": "Rysd0yy9teVb",
        "outputId": "8e185e2d-563d-4e39-875d-6e4b7b0fc2af",
        "colab": {
          "base_uri": "https://localhost:8080/"
        }
      },
      "outputs": [
        {
          "output_type": "stream",
          "name": "stdout",
          "text": [
            "GPUs disponibles: [PhysicalDevice(name='/physical_device:GPU:0', device_type='GPU')]\n"
          ]
        },
        {
          "output_type": "stream",
          "name": "stderr",
          "text": [
            "/usr/local/lib/python3.11/dist-packages/keras/src/layers/rnn/rnn.py:204: UserWarning: Do not pass an `input_shape`/`input_dim` argument to a layer. When using Sequential models, prefer using an `Input(shape)` object as the first layer in the model instead.\n",
            "  super().__init__(**kwargs)\n"
          ]
        }
      ],
      "source": [
        "from tensorflow.keras.models import Sequential\n",
        "from tensorflow.keras.layers import LSTM, Dense\n",
        "from tensorflow.keras.optimizers import RMSprop\n",
        "import tensorflow as tf\n",
        "\n",
        "print(\"GPUs disponibles:\", tf.config.list_physical_devices('GPU'))\n",
        "\n",
        "tf.random.set_seed(123)\n",
        "tf.config.experimental.enable_op_determinism()\n",
        "\n",
        "# El modelo\n",
        "N_UNITS = 128\n",
        "INPUT_SHAPE = (x_tr_s.shape[1], x_tr_s.shape[2])\n",
        "\n",
        "modelo = Sequential()\n",
        "modelo.add(LSTM(N_UNITS, input_shape=INPUT_SHAPE))\n",
        "modelo.add(Dense(OUTPUT_LENGTH, activation='linear'))\n",
        "\n",
        "def root_mean_squared_error(y_true, y_pred):\n",
        "    rmse = tf.math.sqrt(tf.math.reduce_mean(tf.square(y_pred-y_true)))\n",
        "    return rmse\n",
        "\n",
        "#   COMPILACION\n",
        "\n",
        "optimizador = RMSprop(learning_rate=5e-5)\n",
        "modelo.compile(\n",
        "    optimizer = optimizador,\n",
        "    loss = root_mean_squared_error,\n",
        ")"
      ]
    },
    {
      "cell_type": "markdown",
      "metadata": {
        "id": "VEyOU5X1teVb"
      },
      "source": [
        "## Entrenamiento del modelo"
      ]
    },
    {
      "cell_type": "code",
      "execution_count": 17,
      "metadata": {
        "id": "6c89BlFfteVc",
        "outputId": "41c5b532-09a2-4e51-f779-9a921bb2cefd",
        "colab": {
          "base_uri": "https://localhost:8080/"
        }
      },
      "outputs": [
        {
          "output_type": "stream",
          "name": "stdout",
          "text": [
            "Epoch 1/80\n",
            "145/145 - 18s - 122ms/step - loss: 0.3099 - val_loss: 0.0251\n",
            "Epoch 2/80\n",
            "145/145 - 15s - 107ms/step - loss: 0.0366 - val_loss: 0.0246\n",
            "Epoch 3/80\n",
            "145/145 - 21s - 143ms/step - loss: 0.0362 - val_loss: 0.0243\n",
            "Epoch 4/80\n",
            "145/145 - 16s - 111ms/step - loss: 0.0358 - val_loss: 0.0242\n",
            "Epoch 5/80\n",
            "145/145 - 21s - 142ms/step - loss: 0.0355 - val_loss: 0.0245\n",
            "Epoch 6/80\n",
            "145/145 - 16s - 113ms/step - loss: 0.0352 - val_loss: 0.0248\n",
            "Epoch 7/80\n",
            "145/145 - 21s - 144ms/step - loss: 0.0349 - val_loss: 0.0232\n",
            "Epoch 8/80\n",
            "145/145 - 20s - 140ms/step - loss: 0.0346 - val_loss: 0.0209\n",
            "Epoch 9/80\n",
            "145/145 - 20s - 140ms/step - loss: 0.0344 - val_loss: 0.0257\n",
            "Epoch 10/80\n",
            "145/145 - 20s - 141ms/step - loss: 0.0341 - val_loss: 0.0248\n",
            "Epoch 11/80\n",
            "145/145 - 21s - 142ms/step - loss: 0.0339 - val_loss: 0.0221\n",
            "Epoch 12/80\n",
            "145/145 - 17s - 114ms/step - loss: 0.0337 - val_loss: 0.0209\n",
            "Epoch 13/80\n",
            "145/145 - 20s - 140ms/step - loss: 0.0334 - val_loss: 0.0203\n",
            "Epoch 14/80\n",
            "145/145 - 16s - 113ms/step - loss: 0.0332 - val_loss: 0.0199\n",
            "Epoch 15/80\n",
            "145/145 - 21s - 142ms/step - loss: 0.0330 - val_loss: 0.0197\n",
            "Epoch 16/80\n",
            "145/145 - 20s - 141ms/step - loss: 0.0329 - val_loss: 0.0195\n",
            "Epoch 17/80\n",
            "145/145 - 21s - 142ms/step - loss: 0.0327 - val_loss: 0.0193\n",
            "Epoch 18/80\n",
            "145/145 - 17s - 114ms/step - loss: 0.0325 - val_loss: 0.0192\n",
            "Epoch 19/80\n",
            "145/145 - 20s - 141ms/step - loss: 0.0323 - val_loss: 0.0190\n",
            "Epoch 20/80\n",
            "145/145 - 21s - 141ms/step - loss: 0.0322 - val_loss: 0.0189\n",
            "Epoch 21/80\n",
            "145/145 - 21s - 143ms/step - loss: 0.0320 - val_loss: 0.0188\n",
            "Epoch 22/80\n",
            "145/145 - 17s - 114ms/step - loss: 0.0319 - val_loss: 0.0187\n",
            "Epoch 23/80\n",
            "145/145 - 20s - 141ms/step - loss: 0.0317 - val_loss: 0.0186\n",
            "Epoch 24/80\n",
            "145/145 - 21s - 142ms/step - loss: 0.0315 - val_loss: 0.0185\n",
            "Epoch 25/80\n",
            "145/145 - 21s - 142ms/step - loss: 0.0314 - val_loss: 0.0184\n",
            "Epoch 26/80\n",
            "145/145 - 17s - 114ms/step - loss: 0.0313 - val_loss: 0.0184\n",
            "Epoch 27/80\n",
            "145/145 - 16s - 114ms/step - loss: 0.0311 - val_loss: 0.0183\n",
            "Epoch 28/80\n",
            "145/145 - 16s - 113ms/step - loss: 0.0310 - val_loss: 0.0182\n",
            "Epoch 29/80\n",
            "145/145 - 21s - 142ms/step - loss: 0.0308 - val_loss: 0.0182\n",
            "Epoch 30/80\n",
            "145/145 - 21s - 142ms/step - loss: 0.0307 - val_loss: 0.0181\n",
            "Epoch 31/80\n",
            "145/145 - 17s - 115ms/step - loss: 0.0306 - val_loss: 0.0181\n",
            "Epoch 32/80\n",
            "145/145 - 20s - 140ms/step - loss: 0.0305 - val_loss: 0.0180\n",
            "Epoch 33/80\n",
            "145/145 - 16s - 114ms/step - loss: 0.0303 - val_loss: 0.0180\n",
            "Epoch 34/80\n",
            "145/145 - 17s - 114ms/step - loss: 0.0302 - val_loss: 0.0180\n",
            "Epoch 35/80\n",
            "145/145 - 20s - 141ms/step - loss: 0.0301 - val_loss: 0.0180\n",
            "Epoch 36/80\n",
            "145/145 - 17s - 115ms/step - loss: 0.0300 - val_loss: 0.0179\n",
            "Epoch 37/80\n",
            "145/145 - 20s - 141ms/step - loss: 0.0299 - val_loss: 0.0179\n",
            "Epoch 38/80\n",
            "145/145 - 17s - 114ms/step - loss: 0.0298 - val_loss: 0.0179\n",
            "Epoch 39/80\n",
            "145/145 - 17s - 114ms/step - loss: 0.0297 - val_loss: 0.0179\n",
            "Epoch 40/80\n",
            "145/145 - 17s - 114ms/step - loss: 0.0296 - val_loss: 0.0179\n",
            "Epoch 41/80\n",
            "145/145 - 16s - 114ms/step - loss: 0.0295 - val_loss: 0.0179\n",
            "Epoch 42/80\n",
            "145/145 - 17s - 114ms/step - loss: 0.0294 - val_loss: 0.0179\n",
            "Epoch 43/80\n",
            "145/145 - 20s - 141ms/step - loss: 0.0293 - val_loss: 0.0179\n",
            "Epoch 44/80\n",
            "145/145 - 17s - 115ms/step - loss: 0.0292 - val_loss: 0.0178\n",
            "Epoch 45/80\n",
            "145/145 - 21s - 141ms/step - loss: 0.0291 - val_loss: 0.0178\n",
            "Epoch 46/80\n",
            "145/145 - 17s - 115ms/step - loss: 0.0290 - val_loss: 0.0178\n",
            "Epoch 47/80\n",
            "145/145 - 20s - 141ms/step - loss: 0.0289 - val_loss: 0.0178\n",
            "Epoch 48/80\n",
            "145/145 - 17s - 115ms/step - loss: 0.0288 - val_loss: 0.0178\n",
            "Epoch 49/80\n",
            "145/145 - 17s - 115ms/step - loss: 0.0287 - val_loss: 0.0178\n",
            "Epoch 50/80\n",
            "145/145 - 17s - 114ms/step - loss: 0.0287 - val_loss: 0.0179\n",
            "Epoch 51/80\n",
            "145/145 - 17s - 114ms/step - loss: 0.0286 - val_loss: 0.0179\n",
            "Epoch 52/80\n",
            "145/145 - 17s - 114ms/step - loss: 0.0285 - val_loss: 0.0179\n",
            "Epoch 53/80\n",
            "145/145 - 17s - 115ms/step - loss: 0.0284 - val_loss: 0.0179\n",
            "Epoch 54/80\n",
            "145/145 - 20s - 141ms/step - loss: 0.0283 - val_loss: 0.0179\n",
            "Epoch 55/80\n",
            "145/145 - 17s - 115ms/step - loss: 0.0283 - val_loss: 0.0179\n",
            "Epoch 56/80\n",
            "145/145 - 20s - 141ms/step - loss: 0.0282 - val_loss: 0.0179\n",
            "Epoch 57/80\n",
            "145/145 - 21s - 142ms/step - loss: 0.0281 - val_loss: 0.0179\n",
            "Epoch 58/80\n",
            "145/145 - 17s - 115ms/step - loss: 0.0280 - val_loss: 0.0179\n",
            "Epoch 59/80\n",
            "145/145 - 17s - 115ms/step - loss: 0.0280 - val_loss: 0.0179\n",
            "Epoch 60/80\n",
            "145/145 - 17s - 114ms/step - loss: 0.0279 - val_loss: 0.0179\n",
            "Epoch 61/80\n",
            "145/145 - 21s - 142ms/step - loss: 0.0278 - val_loss: 0.0179\n",
            "Epoch 62/80\n",
            "145/145 - 17s - 115ms/step - loss: 0.0278 - val_loss: 0.0179\n",
            "Epoch 63/80\n",
            "Epoch 64/80\n",
            "145/145 - 18s - 125ms/step - loss: 0.0276 - val_loss: 0.0180\n",
            "Epoch 65/80\n",
            "145/145 - 19s - 131ms/step - loss: 0.0276 - val_loss: 0.0180\n",
            "Epoch 66/80\n",
            "145/145 - 17s - 115ms/step - loss: 0.0275 - val_loss: 0.0180\n",
            "Epoch 67/80\n",
            "145/145 - 20s - 141ms/step - loss: 0.0275 - val_loss: 0.0180\n",
            "Epoch 68/80\n",
            "145/145 - 17s - 118ms/step - loss: 0.0274 - val_loss: 0.0181\n",
            "Epoch 69/80\n",
            "145/145 - 20s - 139ms/step - loss: 0.0273 - val_loss: 0.0181\n",
            "Epoch 70/80\n",
            "145/145 - 17s - 115ms/step - loss: 0.0273 - val_loss: 0.0181\n",
            "Epoch 71/80\n",
            "145/145 - 20s - 141ms/step - loss: 0.0272 - val_loss: 0.0182\n",
            "Epoch 72/80\n",
            "145/145 - 21s - 142ms/step - loss: 0.0272 - val_loss: 0.0182\n",
            "Epoch 73/80\n",
            "145/145 - 17s - 116ms/step - loss: 0.0271 - val_loss: 0.0183\n",
            "Epoch 74/80\n",
            "145/145 - 20s - 141ms/step - loss: 0.0271 - val_loss: 0.0183\n",
            "Epoch 75/80\n",
            "145/145 - 17s - 115ms/step - loss: 0.0270 - val_loss: 0.0184\n",
            "Epoch 76/80\n",
            "145/145 - 20s - 141ms/step - loss: 0.0270 - val_loss: 0.0184\n",
            "Epoch 77/80\n",
            "145/145 - 21s - 142ms/step - loss: 0.0269 - val_loss: 0.0185\n",
            "Epoch 78/80\n",
            "145/145 - 20s - 141ms/step - loss: 0.0269 - val_loss: 0.0185\n",
            "Epoch 79/80\n",
            "145/145 - 17s - 115ms/step - loss: 0.0268 - val_loss: 0.0186\n",
            "Epoch 80/80\n",
            "145/145 - 17s - 115ms/step - loss: 0.0268 - val_loss: 0.0186\n"
          ]
        }
      ],
      "source": [
        "EPOCHS = 80\n",
        "BATCH_SIZE = 256\n",
        "historia = modelo.fit(\n",
        "    x = x_tr_s,\n",
        "    y = y_tr_s,\n",
        "    batch_size = BATCH_SIZE,\n",
        "    epochs = EPOCHS,\n",
        "    validation_data = (x_vl_s, y_vl_s),\n",
        "    verbose=2\n",
        ")\n"
      ]
    },
    {
      "cell_type": "markdown",
      "source": [
        "# graficar las perdidas"
      ],
      "metadata": {
        "id": "TobHgrud_Se3"
      }
    },
    {
      "cell_type": "code",
      "source": [
        "plt.plot(historia.history['loss'], label='RMSE train')\n",
        "plt.plot(historia.history['val_loss'], label='RMSE val')  # Corregido 'lable' a 'label'\n",
        "plt.xlabel('Iteración')\n",
        "plt.ylabel('RMSE')\n",
        "plt.legend()\n",
        "plt.show()\n"
      ],
      "metadata": {
        "id": "lhO5EkeL_Rwb",
        "outputId": "c477b847-ebb4-48f5-d68c-d55081e2109f",
        "colab": {
          "base_uri": "https://localhost:8080/",
          "height": 449
        }
      },
      "execution_count": 24,
      "outputs": [
        {
          "output_type": "display_data",
          "data": {
            "text/plain": [
              "<Figure size 640x480 with 1 Axes>"
            ],
            "image/png": "[encoded data removed]"
          },
          "metadata": {}
        }
      ]
    },
    {
      "cell_type": "markdown",
      "source": [
        "## Desempeño del modelo entrenado\n",
        "Suponiendo que los hiperparámetros del modelo ya han sido afinados y que ya hemos realizado el entrenamiento con estos hiperparámetros, el siguiente paso es verificar su desempeño usando el set de datos que hasta el momento no hemos presentado a la Red: el set de prueba.\n",
        "\n",
        "Podemos entonces calcular el desempeño del modelo obtenido para el set de prueba y compararlo con el desempeño obtenido con los sets de entrenamiento y validación.\n",
        "\n",
        "Para ello podemos simplemente calcular el RMSE con cada subset usando el método evaluate, que permite tomar el modelo entrenado, generar las predicciones para cada subset y calcular el RMSE correspondiente:"
      ],
      "metadata": {
        "id": "8U-Ms-UZ-MO0"
      }
    },
    {
      "cell_type": "code",
      "source": [
        "rmse_tr = modelo.evaluate(x=x_tr_s, y=y_tr_s, verbose=0)\n",
        "rmse_vl = modelo.evaluate(x=x_vl_s, y=y_vl_s, verbose=0)\n",
        "rmse_ts = modelo.evaluate(x=x_ts_s, y=y_ts_s, verbose=0)\n",
        "\n",
        "print('Comparativo desempeños:')\n",
        "print(f'  RMSE train:\\t {rmse_tr:.3f}')\n",
        "print(f'  RMSE val:\\t {rmse_vl:.3f}')\n",
        "print(f'  RMSE test:\\t {rmse_ts:.3f}')"
      ],
      "metadata": {
        "id": "cWp0MWjO-A0s",
        "outputId": "3df21819-dd39-4f70-8def-41480db85720",
        "colab": {
          "base_uri": "https://localhost:8080/"
        }
      },
      "execution_count": 18,
      "outputs": [
        {
          "output_type": "stream",
          "name": "stdout",
          "text": [
            "Comparativo desempeños:\n",
            "  RMSE train:\t 0.020\n",
            "  RMSE val:\t 0.016\n",
            "  RMSE test:\t 0.022\n"
          ]
        }
      ]
    },
    {
      "cell_type": "markdown",
      "source": [
        "## Predicciones (forecasting) con el modelo entrenado\n",
        "Bien, teniendo claro que el modelo generaliza bastante bien, lo único que nos resta es ponerlo a prueba generando predicciones.\n",
        "\n",
        "La idea en este caso es tomar los datos de prueba (registros continuos de 24 horas en cada ejemplo de prueba), presentarlos al modelo y obtener predicciones 1 hora a futuro de la temperatura.\n",
        "\n",
        "Para ello implementaremos la función predecir, que tomará como entradas:\n",
        "\n",
        "Uno o múltiples registros de 24 horas de temperatura escalados en el rango de -1 a 1 (variable x)\n",
        "El modelo entrenado (variable model)\n",
        "Y el escalador (variable scaler) requerido para realizar el escalamiento inverso de la predicción generada por el modelo\n",
        "En primer lugar usaremos el método predict para generar con el modelo entrenado las predicciones escaladas (en el rango de -1 a 1). El resultado de esta predicción será almacenado en la variable y_pred_s.\n",
        "\n",
        "A continuación tomaremos dichas predicciones escaladas y realizaremos la transformación inversa usando el método inverse_transform del escalador, con lo cual tendremos las predicciones en los niveles reales de temperatura.\n",
        "\n",
        "La implementación completa de la función es entonces la siguiente:"
      ],
      "metadata": {
        "id": "HEQzW1aZ-fK4"
      }
    },
    {
      "cell_type": "code",
      "source": [
        "def predecir(x, model, scaler):\n",
        "    # Calcular predicción escalada en el rango de -1 a 1\n",
        "    y_pred_s = model.predict(x,verbose=0)\n",
        "\n",
        "    # Llevar la predicción a la escala original\n",
        "    y_pred = scaler.inverse_transform(y_pred_s)\n",
        "\n",
        "    return y_pred.flatten()"
      ],
      "metadata": {
        "id": "WtBi9Trb-nFz"
      },
      "execution_count": 19,
      "outputs": []
    },
    {
      "cell_type": "markdown",
      "source": [
        "En donde en la última línea hemos usado el método flatten para garantizar que las predicciones son un arreglo unidimensional de NumPy.\n",
        "\n",
        "Ahora sólo nos resta llamar la función predecir para obtener cada una de las predicciones sobre el set de prueba:"
      ],
      "metadata": {
        "id": "q2bHULDx-uc_"
      }
    },
    {
      "cell_type": "code",
      "source": [
        "y_ts_pred = predecir(x_ts_s, modelo, scaler)"
      ],
      "metadata": {
        "id": "XDR0GBBO-vJv"
      },
      "execution_count": 20,
      "outputs": []
    },
    {
      "cell_type": "markdown",
      "source": [
        "Para analizar el comportamiento de estas predicciones (5.023 en total, una por cada dato de prueba) podemos simplemente generar una gráfica con las diferencias entre cada par de temperaturas reales y predichas:"
      ],
      "metadata": {
        "id": "OlRDh2IB-7lX"
      }
    },
    {
      "cell_type": "code",
      "source": [
        "N = len(y_ts_pred)    # Número de predicciones (tamaño del set de prueba)\n",
        "ndato = np.linspace(1,N,N)\n",
        "\n",
        "# Cálculo de errores simples\n",
        "errores = y_ts.flatten()-y_ts_pred\n",
        "plt.plot(errores);"
      ],
      "metadata": {
        "id": "2deGn3zZ-50J",
        "outputId": "568570ce-dd87-4043-d544-0bfdda73d913",
        "colab": {
          "base_uri": "https://localhost:8080/",
          "height": 430
        }
      },
      "execution_count": 21,
      "outputs": [
        {
          "output_type": "display_data",
          "data": {
            "text/plain": [
              "<Figure size 640x480 with 1 Axes>"
            ],
            "image/png": "[encoded data removed]"
          },
          "metadata": {}
        }
      ]
    },
    {
      "cell_type": "markdown",
      "source": [
        "Al generar esta gráfica podemos verificar que en promedio los errores están alrededor de 0°C, lo cual quiere decir que en promedio las temperaturas predichas por el modelo se acercan bastante a los valores reales.\n",
        "\n",
        "Sin embargo en algunos casos particulares los errores pueden llegar a ser de -7 °C del lado negativo y de +4 °C del lado positivo.\n",
        "\n",
        "De nuevo, se podría intentar mejorar este aspecto del desempeño afinando los hiperparámetros del modelo."
      ],
      "metadata": {
        "id": "TvkhTGT4_FVp"
      }
    },
    {
      "cell_type": "code",
      "source": [],
      "metadata": {
        "id": "VJUdcLTN_GWL"
      },
      "execution_count": null,
      "outputs": []
    }
  ],
  "metadata": {
    "kernelspec": {
      "display_name": "Python 3",
      "name": "python3"
    },
    "language_info": {
      "codemirror_mode": {
        "name": "ipython",
        "version": 3
      },
      "file_extension": ".py",
      "mimetype": "text/x-python",
      "name": "python",
      "nbconvert_exporter": "python",
      "pygments_lexer": "ipython3",
      "version": "3.12.6"
    },
    "colab": {
      "provenance": [],
      "gpuType": "T4",
      "include_colab_link": true
    },
    "accelerator": "GPU"
  },
  "nbformat": 4,
  "nbformat_minor": 0
}