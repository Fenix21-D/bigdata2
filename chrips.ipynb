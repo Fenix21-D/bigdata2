{
 "cells": [
  {
   "cell_type": "markdown",
   "metadata": {},
   "source": [
    "# Rutina para descargar series temporales"
   ]
  },
  {
   "cell_type": "markdown",
   "metadata": {},
   "source": [
    "# 1. Configuración inicial\n",
    "Esta celda importa las bibliotecas necesarias y define variables de configuración.\n",
    "\n",
    "python\n",
    "Copiar código\n"
   ]
  },
  {
   "cell_type": "code",
   "execution_count": 1,
   "metadata": {},
   "outputs": [],
   "source": [
    "import os\n",
    "import requests\n",
    "import xarray as xr\n",
    "\n",
    "# Configuración\n",
    "base_url = r\"https://data.chc.ucsb.edu/products/CHIRPS-2.0/global_daily/netcdf\"\n",
    "output_dir = r\"./chirps_data\"\n",
    "os.makedirs(output_dir, exist_ok=True)  # Crear el directorio de salida si no existe\n"
   ]
  },
  {
   "cell_type": "markdown",
   "metadata": {},
   "source": [
    "# 2. Función para descargar archivos\n",
    "Incluye una función reutilizable para descargar datos desde la URL."
   ]
  },
  {
   "cell_type": "code",
   "execution_count": 2,
   "metadata": {},
   "outputs": [],
   "source": [
    "# Función para descargar un archivo desde una URL\n",
    "def download_chirps_file(url, output_path):\n",
    "    response = requests.get(url, stream=True)\n",
    "    if response.status_code == 200:\n",
    "        with open(output_path, 'wb') as file:\n",
    "            for chunk in response.iter_content(chunk_size=8192):\n",
    "                file.write(chunk)\n",
    "        print(f\"Descarga completada: {output_path}\")\n",
    "        return True\n",
    "    else:\n",
    "        print(f\"Error al descargar {url}. Código de estado: {response.status_code}\")\n",
    "        return False\n"
   ]
  },
  {
   "cell_type": "markdown",
   "metadata": {},
   "source": [
    "# 3. Función para procesar archivos NetCDF\n",
    "Esta celda define la función para cargar y visualizar datos de los archivos NetCDF.\n"
   ]
  },
  {
   "cell_type": "code",
   "execution_count": 3,
   "metadata": {},
   "outputs": [],
   "source": [
    "# Función para procesar un archivo NetCDF\n",
    "def process_chirps_data(nc_file):\n",
    "    if not os.path.exists(nc_file):\n",
    "        print(f\"Archivo no encontrado: {nc_file}\")\n",
    "        return None\n",
    "    try:\n",
    "        data = xr.open_dataset(nc_file)\n",
    "        print(data)  # Imprime la estructura del dataset\n",
    "        return data\n",
    "    except Exception as e:\n",
    "        print(f\"Error al procesar el archivo {nc_file}: {e}\")\n",
    "        return None\n"
   ]
  },
  {
   "cell_type": "markdown",
   "metadata": {},
   "source": [
    "# 4. Descargar y combinar la serie histórica\n",
    "Esta celda descarga los archivos por año y combina la información en un único archivo o estructura para evitar múltiples peticiones."
   ]
  },
  {
   "cell_type": "code",
   "execution_count": 4,
   "metadata": {},
   "outputs": [
    {
     "name": "stdout",
     "output_type": "stream",
     "text": [
      "Error al descargar https://data.chc.ucsb.edu/products/CHIRPS-2.0/global_daily/netcdf/chirps-v2.0.1981.daily.nc. Código de estado: 404\n",
      "Archivo no encontrado: ./chirps_data\\chirps-v2.0.1981.daily.nc\n",
      "Error al descargar https://data.chc.ucsb.edu/products/CHIRPS-2.0/global_daily/netcdf/chirps-v2.0.1982.daily.nc. Código de estado: 404\n",
      "Archivo no encontrado: ./chirps_data\\chirps-v2.0.1982.daily.nc\n",
      "Error al descargar https://data.chc.ucsb.edu/products/CHIRPS-2.0/global_daily/netcdf/chirps-v2.0.1983.daily.nc. Código de estado: 404\n",
      "Archivo no encontrado: ./chirps_data\\chirps-v2.0.1983.daily.nc\n",
      "Error al descargar https://data.chc.ucsb.edu/products/CHIRPS-2.0/global_daily/netcdf/chirps-v2.0.1984.daily.nc. Código de estado: 404\n",
      "Archivo no encontrado: ./chirps_data\\chirps-v2.0.1984.daily.nc\n",
      "Error al descargar https://data.chc.ucsb.edu/products/CHIRPS-2.0/global_daily/netcdf/chirps-v2.0.1985.daily.nc. Código de estado: 404\n",
      "Archivo no encontrado: ./chirps_data\\chirps-v2.0.1985.daily.nc\n",
      "Error al descargar https://data.chc.ucsb.edu/products/CHIRPS-2.0/global_daily/netcdf/chirps-v2.0.1986.daily.nc. Código de estado: 404\n",
      "Archivo no encontrado: ./chirps_data\\chirps-v2.0.1986.daily.nc\n",
      "Error al descargar https://data.chc.ucsb.edu/products/CHIRPS-2.0/global_daily/netcdf/chirps-v2.0.1987.daily.nc. Código de estado: 404\n",
      "Archivo no encontrado: ./chirps_data\\chirps-v2.0.1987.daily.nc\n",
      "Error al descargar https://data.chc.ucsb.edu/products/CHIRPS-2.0/global_daily/netcdf/chirps-v2.0.1988.daily.nc. Código de estado: 404\n",
      "Archivo no encontrado: ./chirps_data\\chirps-v2.0.1988.daily.nc\n",
      "Error al descargar https://data.chc.ucsb.edu/products/CHIRPS-2.0/global_daily/netcdf/chirps-v2.0.1989.daily.nc. Código de estado: 404\n",
      "Archivo no encontrado: ./chirps_data\\chirps-v2.0.1989.daily.nc\n",
      "Error al descargar https://data.chc.ucsb.edu/products/CHIRPS-2.0/global_daily/netcdf/chirps-v2.0.1990.daily.nc. Código de estado: 404\n",
      "Archivo no encontrado: ./chirps_data\\chirps-v2.0.1990.daily.nc\n",
      "Error al descargar https://data.chc.ucsb.edu/products/CHIRPS-2.0/global_daily/netcdf/chirps-v2.0.1991.daily.nc. Código de estado: 404\n",
      "Archivo no encontrado: ./chirps_data\\chirps-v2.0.1991.daily.nc\n",
      "Error al descargar https://data.chc.ucsb.edu/products/CHIRPS-2.0/global_daily/netcdf/chirps-v2.0.1992.daily.nc. Código de estado: 404\n",
      "Archivo no encontrado: ./chirps_data\\chirps-v2.0.1992.daily.nc\n",
      "Error al descargar https://data.chc.ucsb.edu/products/CHIRPS-2.0/global_daily/netcdf/chirps-v2.0.1993.daily.nc. Código de estado: 404\n",
      "Archivo no encontrado: ./chirps_data\\chirps-v2.0.1993.daily.nc\n",
      "Error al descargar https://data.chc.ucsb.edu/products/CHIRPS-2.0/global_daily/netcdf/chirps-v2.0.1994.daily.nc. Código de estado: 404\n",
      "Archivo no encontrado: ./chirps_data\\chirps-v2.0.1994.daily.nc\n",
      "Error al descargar https://data.chc.ucsb.edu/products/CHIRPS-2.0/global_daily/netcdf/chirps-v2.0.1995.daily.nc. Código de estado: 404\n",
      "Archivo no encontrado: ./chirps_data\\chirps-v2.0.1995.daily.nc\n",
      "Error al descargar https://data.chc.ucsb.edu/products/CHIRPS-2.0/global_daily/netcdf/chirps-v2.0.1996.daily.nc. Código de estado: 404\n",
      "Archivo no encontrado: ./chirps_data\\chirps-v2.0.1996.daily.nc\n",
      "Error al descargar https://data.chc.ucsb.edu/products/CHIRPS-2.0/global_daily/netcdf/chirps-v2.0.1997.daily.nc. Código de estado: 404\n",
      "Archivo no encontrado: ./chirps_data\\chirps-v2.0.1997.daily.nc\n",
      "Error al descargar https://data.chc.ucsb.edu/products/CHIRPS-2.0/global_daily/netcdf/chirps-v2.0.1998.daily.nc. Código de estado: 404\n",
      "Archivo no encontrado: ./chirps_data\\chirps-v2.0.1998.daily.nc\n",
      "Error al descargar https://data.chc.ucsb.edu/products/CHIRPS-2.0/global_daily/netcdf/chirps-v2.0.1999.daily.nc. Código de estado: 404\n",
      "Archivo no encontrado: ./chirps_data\\chirps-v2.0.1999.daily.nc\n",
      "Error al descargar https://data.chc.ucsb.edu/products/CHIRPS-2.0/global_daily/netcdf/chirps-v2.0.2000.daily.nc. Código de estado: 404\n",
      "Archivo no encontrado: ./chirps_data\\chirps-v2.0.2000.daily.nc\n",
      "Error al descargar https://data.chc.ucsb.edu/products/CHIRPS-2.0/global_daily/netcdf/chirps-v2.0.2001.daily.nc. Código de estado: 404\n",
      "Archivo no encontrado: ./chirps_data\\chirps-v2.0.2001.daily.nc\n",
      "Error al descargar https://data.chc.ucsb.edu/products/CHIRPS-2.0/global_daily/netcdf/chirps-v2.0.2002.daily.nc. Código de estado: 404\n",
      "Archivo no encontrado: ./chirps_data\\chirps-v2.0.2002.daily.nc\n",
      "Error al descargar https://data.chc.ucsb.edu/products/CHIRPS-2.0/global_daily/netcdf/chirps-v2.0.2003.daily.nc. Código de estado: 404\n",
      "Archivo no encontrado: ./chirps_data\\chirps-v2.0.2003.daily.nc\n",
      "Error al descargar https://data.chc.ucsb.edu/products/CHIRPS-2.0/global_daily/netcdf/chirps-v2.0.2004.daily.nc. Código de estado: 404\n",
      "Archivo no encontrado: ./chirps_data\\chirps-v2.0.2004.daily.nc\n",
      "Error al descargar https://data.chc.ucsb.edu/products/CHIRPS-2.0/global_daily/netcdf/chirps-v2.0.2005.daily.nc. Código de estado: 404\n",
      "Archivo no encontrado: ./chirps_data\\chirps-v2.0.2005.daily.nc\n",
      "Error al descargar https://data.chc.ucsb.edu/products/CHIRPS-2.0/global_daily/netcdf/chirps-v2.0.2006.daily.nc. Código de estado: 404\n",
      "Archivo no encontrado: ./chirps_data\\chirps-v2.0.2006.daily.nc\n",
      "Error al descargar https://data.chc.ucsb.edu/products/CHIRPS-2.0/global_daily/netcdf/chirps-v2.0.2007.daily.nc. Código de estado: 404\n",
      "Archivo no encontrado: ./chirps_data\\chirps-v2.0.2007.daily.nc\n",
      "Error al descargar https://data.chc.ucsb.edu/products/CHIRPS-2.0/global_daily/netcdf/chirps-v2.0.2008.daily.nc. Código de estado: 404\n",
      "Archivo no encontrado: ./chirps_data\\chirps-v2.0.2008.daily.nc\n",
      "Error al descargar https://data.chc.ucsb.edu/products/CHIRPS-2.0/global_daily/netcdf/chirps-v2.0.2009.daily.nc. Código de estado: 404\n",
      "Archivo no encontrado: ./chirps_data\\chirps-v2.0.2009.daily.nc\n",
      "Error al descargar https://data.chc.ucsb.edu/products/CHIRPS-2.0/global_daily/netcdf/chirps-v2.0.2010.daily.nc. Código de estado: 404\n",
      "Archivo no encontrado: ./chirps_data\\chirps-v2.0.2010.daily.nc\n",
      "Error al descargar https://data.chc.ucsb.edu/products/CHIRPS-2.0/global_daily/netcdf/chirps-v2.0.2011.daily.nc. Código de estado: 404\n",
      "Archivo no encontrado: ./chirps_data\\chirps-v2.0.2011.daily.nc\n",
      "Error al descargar https://data.chc.ucsb.edu/products/CHIRPS-2.0/global_daily/netcdf/chirps-v2.0.2012.daily.nc. Código de estado: 404\n",
      "Archivo no encontrado: ./chirps_data\\chirps-v2.0.2012.daily.nc\n",
      "Error al descargar https://data.chc.ucsb.edu/products/CHIRPS-2.0/global_daily/netcdf/chirps-v2.0.2013.daily.nc. Código de estado: 404\n",
      "Archivo no encontrado: ./chirps_data\\chirps-v2.0.2013.daily.nc\n",
      "Error al descargar https://data.chc.ucsb.edu/products/CHIRPS-2.0/global_daily/netcdf/chirps-v2.0.2014.daily.nc. Código de estado: 404\n",
      "Archivo no encontrado: ./chirps_data\\chirps-v2.0.2014.daily.nc\n",
      "Error al descargar https://data.chc.ucsb.edu/products/CHIRPS-2.0/global_daily/netcdf/chirps-v2.0.2015.daily.nc. Código de estado: 404\n",
      "Archivo no encontrado: ./chirps_data\\chirps-v2.0.2015.daily.nc\n",
      "Error al descargar https://data.chc.ucsb.edu/products/CHIRPS-2.0/global_daily/netcdf/chirps-v2.0.2016.daily.nc. Código de estado: 404\n",
      "Archivo no encontrado: ./chirps_data\\chirps-v2.0.2016.daily.nc\n",
      "Error al descargar https://data.chc.ucsb.edu/products/CHIRPS-2.0/global_daily/netcdf/chirps-v2.0.2017.daily.nc. Código de estado: 404\n",
      "Archivo no encontrado: ./chirps_data\\chirps-v2.0.2017.daily.nc\n",
      "Error al descargar https://data.chc.ucsb.edu/products/CHIRPS-2.0/global_daily/netcdf/chirps-v2.0.2018.daily.nc. Código de estado: 404\n",
      "Archivo no encontrado: ./chirps_data\\chirps-v2.0.2018.daily.nc\n",
      "Error al descargar https://data.chc.ucsb.edu/products/CHIRPS-2.0/global_daily/netcdf/chirps-v2.0.2019.daily.nc. Código de estado: 404\n",
      "Archivo no encontrado: ./chirps_data\\chirps-v2.0.2019.daily.nc\n",
      "Error al descargar https://data.chc.ucsb.edu/products/CHIRPS-2.0/global_daily/netcdf/chirps-v2.0.2020.daily.nc. Código de estado: 404\n",
      "Archivo no encontrado: ./chirps_data\\chirps-v2.0.2020.daily.nc\n",
      "Error al descargar https://data.chc.ucsb.edu/products/CHIRPS-2.0/global_daily/netcdf/chirps-v2.0.2021.daily.nc. Código de estado: 404\n",
      "Archivo no encontrado: ./chirps_data\\chirps-v2.0.2021.daily.nc\n",
      "Error al descargar https://data.chc.ucsb.edu/products/CHIRPS-2.0/global_daily/netcdf/chirps-v2.0.2022.daily.nc. Código de estado: 404\n",
      "Archivo no encontrado: ./chirps_data\\chirps-v2.0.2022.daily.nc\n"
     ]
    }
   ],
   "source": [
    "# Lista de años disponibles (ajusta según necesidad)\n",
    "years = list(range(1981, 2023))  # CHIRPS tiene datos desde 1981 hasta el presente\n",
    "\n",
    "# Descargar y combinar archivos NetCDF\n",
    "combined_data = None\n",
    "\n",
    "years = list(range(1981, 2023))  # Ajusta los años según los datos disponibles\n",
    "\n",
    "for year in years:\n",
    "    filename = f\"chirps-v2.0.{year}.daily.nc\"  # Cambiado a datos diarios\n",
    "    url = f\"{base_url}/{filename}\"\n",
    "    output_path = os.path.join(output_dir, filename)\n",
    "\n",
    "    # Descargar el archivo si no existe\n",
    "    if not os.path.exists(output_path):\n",
    "        if download_chirps_file(url, output_path):\n",
    "            print(f\"Archivo {filename} descargado.\")\n",
    "    else:\n",
    "        print(f\"Archivo {filename} ya existe, omitiendo descarga.\")\n",
    "\n",
    "    # Procesar y combinar datos\n",
    "    data = process_chirps_data(output_path)\n",
    "    if data is not None:\n",
    "        combined_data = xr.concat([combined_data, data], dim=\"time\") if combined_data else data\n",
    "\n",
    "# Guardar el conjunto combinado para uso futuro\n",
    "combined_file = os.path.join(output_dir, r\"chirps_combined.nc\")\n",
    "if combined_data:\n",
    "    combined_data.to_netcdf(combined_file)\n",
    "    print(f\"Serie histórica combinada guardada en: {combined_file}\")\n"
   ]
  },
  {
   "cell_type": "markdown",
   "metadata": {},
   "source": [
    "# 5. Cargar y manipular los datos combinados\n",
    "Esta celda carga la serie histórica ya combinada desde el archivo guardado, lo que evita la necesidad de procesar múltiples archivos."
   ]
  },
  {
   "cell_type": "code",
   "execution_count": 5,
   "metadata": {},
   "outputs": [
    {
     "name": "stdout",
     "output_type": "stream",
     "text": [
      "El archivo combinado no existe. Asegúrate de ejecutar la celda anterior.\n"
     ]
    }
   ],
   "source": [
    "# Cargar datos combinados desde el archivo guardado\n",
    "combined_file = os.path.join(output_dir, \"chirps_combined.nc\")\n",
    "\n",
    "if os.path.exists(combined_file):\n",
    "    historical_data = xr.open_dataset(combined_file)\n",
    "    print(historical_data)\n",
    "else:\n",
    "    print(\"El archivo combinado no existe. Asegúrate de ejecutar la celda anterior.\")\n"
   ]
  },
  {
   "cell_type": "markdown",
   "metadata": {},
   "source": [
    "# 6. Ejemplo de manipulación de datos\n",
    "Esta celda muestra cómo extraer información de la serie histórica combinada."
   ]
  },
  {
   "cell_type": "code",
   "execution_count": 6,
   "metadata": {},
   "outputs": [
    {
     "ename": "NameError",
     "evalue": "name 'historical_data' is not defined",
     "output_type": "error",
     "traceback": [
      "\u001b[1;31m---------------------------------------------------------------------------\u001b[0m",
      "\u001b[1;31mNameError\u001b[0m                                 Traceback (most recent call last)",
      "Cell \u001b[1;32mIn[6], line 2\u001b[0m\n\u001b[0;32m      1\u001b[0m \u001b[38;5;66;03m# Ejemplo: Extraer datos mensuales para una región específica\u001b[39;00m\n\u001b[1;32m----> 2\u001b[0m region_data \u001b[38;5;241m=\u001b[39m \u001b[43mhistorical_data\u001b[49m\u001b[38;5;241m.\u001b[39msel(lat\u001b[38;5;241m=\u001b[39m\u001b[38;5;28mslice\u001b[39m(\u001b[38;5;241m-\u001b[39m\u001b[38;5;241m10\u001b[39m, \u001b[38;5;241m10\u001b[39m), lon\u001b[38;5;241m=\u001b[39m\u001b[38;5;28mslice\u001b[39m(\u001b[38;5;241m-\u001b[39m\u001b[38;5;241m60\u001b[39m, \u001b[38;5;241m-\u001b[39m\u001b[38;5;241m40\u001b[39m))  \u001b[38;5;66;03m# Región (latitud/longitud)\u001b[39;00m\n\u001b[0;32m      3\u001b[0m mean_precipitation \u001b[38;5;241m=\u001b[39m region_data[\u001b[38;5;124m'\u001b[39m\u001b[38;5;124mprecip\u001b[39m\u001b[38;5;124m'\u001b[39m]\u001b[38;5;241m.\u001b[39mmean(dim\u001b[38;5;241m=\u001b[39m[\u001b[38;5;124m\"\u001b[39m\u001b[38;5;124mlat\u001b[39m\u001b[38;5;124m\"\u001b[39m, \u001b[38;5;124m\"\u001b[39m\u001b[38;5;124mlon\u001b[39m\u001b[38;5;124m\"\u001b[39m])  \u001b[38;5;66;03m# Promedio espacial\u001b[39;00m\n\u001b[0;32m      5\u001b[0m \u001b[38;5;66;03m# Visualizar datos\u001b[39;00m\n",
      "\u001b[1;31mNameError\u001b[0m: name 'historical_data' is not defined"
     ]
    }
   ],
   "source": [
    "# Ejemplo: Extraer datos mensuales para una región específica\n",
    "region_data = historical_data.sel(lat=slice(-10, 10), lon=slice(-60, -40))  # Región (latitud/longitud)\n",
    "mean_precipitation = region_data['precip'].mean(dim=[\"lat\", \"lon\"])  # Promedio espacial\n",
    "\n",
    "# Visualizar datos\n",
    "mean_precipitation.plot()\n"
   ]
  }
 ],
 "metadata": {
  "kernelspec": {
   "display_name": "Python 3",
   "language": "python",
   "name": "python3"
  },
  "language_info": {
   "codemirror_mode": {
    "name": "ipython",
    "version": 3
   },
   "file_extension": ".py",
   "mimetype": "text/x-python",
   "name": "python",
   "nbconvert_exporter": "python",
   "pygments_lexer": "ipython3",
   "version": "3.12.6"
  }
 },
 "nbformat": 4,
 "nbformat_minor": 2
}
